{
 "cells": [
  {
   "cell_type": "markdown",
   "metadata": {},
   "source": [
    "# Lazy Evaluation and Parallel Computing"
   ]
  },
  {
   "cell_type": "code",
   "execution_count": 44,
   "metadata": {},
   "outputs": [],
   "source": [
    "#!pip install dask\n",
    "# \n",
    "#!pip install graphviz "
   ]
  },
  {
   "cell_type": "code",
   "execution_count": 46,
   "metadata": {},
   "outputs": [],
   "source": [
    "from dask import delayed\n",
    "import dask\n",
    "import numpy as np\n",
    "import os"
   ]
  },
  {
   "cell_type": "code",
   "execution_count": 47,
   "metadata": {},
   "outputs": [],
   "source": [
    "\n",
    "os.environ[\"PATH\"] += os.pathsep + 'C:/Program Files/Graphviz/bin/'"
   ]
  },
  {
   "cell_type": "code",
   "execution_count": 10,
   "metadata": {},
   "outputs": [],
   "source": [
    "def my_square_function(x):\n",
    "    return x**2"
   ]
  },
  {
   "cell_type": "code",
   "execution_count": 11,
   "metadata": {},
   "outputs": [],
   "source": [
    "# Create delayed version of the above function\n",
    "delayed_square_function = delayed(my_square_function)"
   ]
  },
  {
   "cell_type": "code",
   "execution_count": 12,
   "metadata": {},
   "outputs": [],
   "source": [
    "# Use the delayed function with input 4\n",
    "delayed_result = delayed_square_function(4)"
   ]
  },
  {
   "cell_type": "code",
   "execution_count": 13,
   "metadata": {},
   "outputs": [
    {
     "name": "stdout",
     "output_type": "stream",
     "text": [
      "Delayed('my_square_function-d921dfb4-cd1a-4f32-8964-8017943bafe0')\n"
     ]
    }
   ],
   "source": [
    "# Print the delayed answer\n",
    "print(delayed_result)"
   ]
  },
  {
   "cell_type": "code",
   "execution_count": 14,
   "metadata": {},
   "outputs": [],
   "source": [
    "# Delay and use function\n",
    "delayed_result = delayed(my_square_function)(4)"
   ]
  },
  {
   "cell_type": "code",
   "execution_count": 15,
   "metadata": {},
   "outputs": [
    {
     "name": "stdout",
     "output_type": "stream",
     "text": [
      "Delayed('my_square_function-fc380b9a-5cae-4e3b-8ebf-d26b4b788212')\n"
     ]
    }
   ],
   "source": [
    "print(delayed_result)"
   ]
  },
  {
   "cell_type": "code",
   "execution_count": 16,
   "metadata": {},
   "outputs": [],
   "source": [
    "real_result = delayed_result.compute() # This line is where the calculation happens"
   ]
  },
  {
   "cell_type": "code",
   "execution_count": 17,
   "metadata": {},
   "outputs": [
    {
     "name": "stdout",
     "output_type": "stream",
     "text": [
      "16\n"
     ]
    }
   ],
   "source": [
    "# Print the answer\n",
    "print(real_result)"
   ]
  },
  {
   "cell_type": "markdown",
   "metadata": {},
   "source": [
    "## Using Operations on delayed objects"
   ]
  },
  {
   "cell_type": "code",
   "execution_count": 18,
   "metadata": {},
   "outputs": [],
   "source": [
    "delayed_result1 = delayed(my_square_function)(4)"
   ]
  },
  {
   "cell_type": "code",
   "execution_count": 19,
   "metadata": {},
   "outputs": [],
   "source": [
    "# Operations return delayed object\n",
    "delayed_result2 = (4 + delayed_result1) * 5"
   ]
  },
  {
   "cell_type": "code",
   "execution_count": 20,
   "metadata": {},
   "outputs": [
    {
     "name": "stdout",
     "output_type": "stream",
     "text": [
      "100\n"
     ]
    }
   ],
   "source": [
    "print(delayed_result2.compute())"
   ]
  },
  {
   "cell_type": "markdown",
   "metadata": {},
   "source": [
    "## Lazy evaluation"
   ]
  },
  {
   "cell_type": "code",
   "execution_count": 21,
   "metadata": {},
   "outputs": [],
   "source": [
    "x_list = [30, 85, 14, 12, 27, 62, 89, 15, 78, 0]"
   ]
  },
  {
   "cell_type": "code",
   "execution_count": 22,
   "metadata": {},
   "outputs": [],
   "source": [
    "sum_of_squares = 0"
   ]
  },
  {
   "cell_type": "code",
   "execution_count": 23,
   "metadata": {},
   "outputs": [],
   "source": [
    "for x in x_list:\n",
    "    # Square and add numbers\n",
    "    sum_of_squares += delayed(my_square_function)(x)"
   ]
  },
  {
   "cell_type": "code",
   "execution_count": 24,
   "metadata": {},
   "outputs": [],
   "source": [
    "result = sum_of_squares.compute()"
   ]
  },
  {
   "cell_type": "code",
   "execution_count": 25,
   "metadata": {},
   "outputs": [
    {
     "name": "stdout",
     "output_type": "stream",
     "text": [
      "27268\n"
     ]
    }
   ],
   "source": [
    "# Print the answer\n",
    "print(result)"
   ]
  },
  {
   "cell_type": "markdown",
   "metadata": {},
   "source": [
    "## Sharing computation"
   ]
  },
  {
   "cell_type": "code",
   "execution_count": 26,
   "metadata": {},
   "outputs": [],
   "source": [
    "delayed_intermediate = delayed(my_square_function)(3)"
   ]
  },
  {
   "cell_type": "code",
   "execution_count": 27,
   "metadata": {},
   "outputs": [],
   "source": [
    "# These two results both use delayed_intermediate\n",
    "delayed_result1 = delayed_intermediate - 5\n",
    "delayed_result2 = delayed_intermediate + 4"
   ]
  },
  {
   "cell_type": "code",
   "execution_count": 28,
   "metadata": {},
   "outputs": [
    {
     "name": "stdout",
     "output_type": "stream",
     "text": [
      "delayed_result1: 4\n",
      "delayed_result2: 13\n"
     ]
    }
   ],
   "source": [
    "# delayed_3_squared will be computed twice\n",
    "print('delayed_result1:', delayed_result1.compute())\n",
    "print('delayed_result2:', delayed_result2.compute())"
   ]
  },
  {
   "cell_type": "code",
   "execution_count": 30,
   "metadata": {},
   "outputs": [
    {
     "name": "stdout",
     "output_type": "stream",
     "text": [
      "delayed_result1: 4\n",
      "delayed_result2: 13\n"
     ]
    }
   ],
   "source": [
    "# Above is inefficent instead do this\n",
    "# delayed_intermediate will be computed once\n",
    "comp_result1, com_result2 = dask.compute(delayed_result1, delayed_result2)\n",
    "\n",
    "print('delayed_result1:', comp_result1)\n",
    "print('delayed_result2:', com_result2)"
   ]
  },
  {
   "cell_type": "markdown",
   "metadata": {},
   "source": [
    "## Exercise: Lazy evaluation"
   ]
  },
  {
   "cell_type": "markdown",
   "metadata": {},
   "source": [
    "When Python is working its way through the following script, which line will it get to when the 'Converting to percentage' message is printed?"
   ]
  },
  {
   "cell_type": "code",
   "execution_count": 33,
   "metadata": {},
   "outputs": [],
   "source": [
    "from dask import delayed\n",
    "\n",
    "def fraction_to_percent(x):\n",
    "     percentage = x * 100\n",
    "     print('Converting to percentage')\n",
    "     return x\n",
    "\n",
    "frac = 0.3\n",
    "percentage = delayed(fraction_to_percent)(frac)"
   ]
  },
  {
   "cell_type": "code",
   "execution_count": 34,
   "metadata": {},
   "outputs": [
    {
     "name": "stdout",
     "output_type": "stream",
     "text": [
      "Converting to percentage\n"
     ]
    }
   ],
   "source": [
    "computed_percentage = percentage.compute()"
   ]
  },
  {
   "cell_type": "code",
   "execution_count": null,
   "metadata": {},
   "outputs": [],
   "source": [
    "print(percentage)\n",
    "print(computed_percentage)"
   ]
  },
  {
   "cell_type": "markdown",
   "metadata": {},
   "source": [
    "## Exercise: Lazy evaluation"
   ]
  },
  {
   "cell_type": "code",
   "execution_count": 37,
   "metadata": {},
   "outputs": [],
   "source": [
    "\n",
    "costs_week_1 = [121, 729, 441, 961, 841, 729, 25, 225, 256, 441, 400, 484, 900]\n",
    "costs_week_2 = [196,361, 81, 441, 49, 100, 729, 841, 676, 256, 121, 576, 49, 100, 49, 16, 961, 36, 841]"
   ]
  },
  {
   "cell_type": "code",
   "execution_count": 38,
   "metadata": {},
   "outputs": [
    {
     "name": "stdout",
     "output_type": "stream",
     "text": [
      "13032\n"
     ]
    }
   ],
   "source": [
    "# Import the delayed function from Dask\n",
    "from dask import delayed\n",
    "\n",
    "# Lazily calculate the sums of costs_week_1 and costs_week_2\n",
    "sum1 = delayed(np.sum)(costs_week_1)\n",
    "sum2 = delayed(np.sum)(costs_week_2)\n",
    "\n",
    "# Add the two delayed sums\n",
    "total = sum1 + sum2\n",
    "\n",
    "# Compute and print the final answer\n",
    "print(total.compute())"
   ]
  },
  {
   "cell_type": "markdown",
   "metadata": {},
   "source": [
    "## Task graphs and scheduling methods"
   ]
  },
  {
   "cell_type": "markdown",
   "metadata": {},
   "source": [
    "### Visualising a task graph"
   ]
  },
  {
   "cell_type": "code",
   "execution_count": 39,
   "metadata": {},
   "outputs": [],
   "source": [
    "# Create 2 delayed objects\n",
    "delayed_num1 = delayed(my_square_function)(3)\n",
    "delayed_num2 = delayed(my_square_function)(4)"
   ]
  },
  {
   "cell_type": "code",
   "execution_count": 40,
   "metadata": {},
   "outputs": [],
   "source": [
    "# Add them\n",
    "result = delayed_num1 + delayed_num2"
   ]
  },
  {
   "cell_type": "code",
   "execution_count": 48,
   "metadata": {},
   "outputs": [
    {
     "data": {
      "image/png": "[encoded data removed]",
      "text/plain": [
       "<IPython.core.display.Image object>"
      ]
     },
     "execution_count": 48,
     "metadata": {},
     "output_type": "execute_result"
    }
   ],
   "source": [
    "# Plot the task graph\n",
    "result.visualize()"
   ]
  },
  {
   "cell_type": "code",
   "execution_count": null,
   "metadata": {},
   "outputs": [],
   "source": []
  }
 ],
 "metadata": {
  "kernelspec": {
   "display_name": "Python 3.10.5 64-bit",
   "language": "python",
   "name": "python3"
  },
  "language_info": {
   "codemirror_mode": {
    "name": "ipython",
    "version": 3
   },
   "file_extension": ".py",
   "mimetype": "text/x-python",
   "name": "python",
   "nbconvert_exporter": "python",
   "pygments_lexer": "ipython3",
   "version": "3.10.5"
  },
  "orig_nbformat": 4,
  "vscode": {
   "interpreter": {
    "hash": "50651aca1c28520dc7e0f2c839e844761b32b1b85cc5bf0e44c18d78e59fd216"
   }
  }
 },
 "nbformat": 4,
 "nbformat_minor": 2
}
